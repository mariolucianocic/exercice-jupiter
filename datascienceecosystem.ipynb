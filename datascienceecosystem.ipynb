{
 "cells": [
  {
   "cell_type": "markdown",
   "id": "09041f9a-877b-4a06-ab64-513ee31da5c7",
   "metadata": {
    "tags": []
   },
   "source": [
    "# Data Science Tools and Ecosystem"
   ]
  },
  {
   "cell_type": "markdown",
   "id": "0ed7debb-4d65-41bb-a72b-06ee7c717bae",
   "metadata": {},
   "source": [
    "#### In this notebook, Data Science Tools and Ecosystem are summarized."
   ]
  },
  {
   "cell_type": "markdown",
   "id": "0e228af1-6b0a-4c45-86c8-8357ec77f311",
   "metadata": {},
   "source": [
    "**Objectives:**\n"
   ]
  },
  {
   "cell_type": "markdown",
   "id": "5e0a90c4-e6f2-4488-81c0-f8f4dadb7273",
   "metadata": {
    "tags": []
   },
   "source": [
    "* Popular languages \n",
    "\n",
    "* Commonly used libraries\n",
    "\n",
    "* Data Science tools"
   ]
  },
  {
   "cell_type": "markdown",
   "id": "dd6e5509-89d4-44e0-b816-708ae66eb5d1",
   "metadata": {},
   "source": [
    "###### Some of the popular languages that Data Scientists use are:\n",
    "\n",
    "1. Phyton\n",
    "1. R\n",
    "1. Julia"
   ]
  },
  {
   "cell_type": "markdown",
   "id": "f3fce282-9093-48cf-b3d5-65ec2d7d628a",
   "metadata": {},
   "source": [
    "###### Some of the commonly used libraries used by Data Scientists include:\n",
    "1. NumPy\n",
    "1. Pandas\n",
    "1. TensorFlow"
   ]
  },
  {
   "cell_type": "markdown",
   "id": "4744dd26-014f-476a-9fa4-629de72f5904",
   "metadata": {},
   "source": [
    "| Data Science Tools |\n",
    "| ------------------ |\n",
    "| R Studio |\n",
    "| Jupiter Notebook |\n",
    "| PyTorch |"
   ]
  },
  {
   "cell_type": "markdown",
   "id": "98d5725a-51e1-4e29-9951-b7152fc499e1",
   "metadata": {},
   "source": [
    "### Below are a few examples of evaluating arithmetic expressions in Python"
   ]
  },
  {
   "cell_type": "code",
   "execution_count": 5,
   "id": "729eb68b-7f5e-44c0-a6d1-fef09482c047",
   "metadata": {
    "tags": []
   },
   "outputs": [
    {
     "data": {
      "text/plain": [
       "17"
      ]
     },
     "execution_count": 5,
     "metadata": {},
     "output_type": "execute_result"
    }
   ],
   "source": [
    "# This a simple arithmetic expression to mutiply then add integers \n",
    "\n",
    "(3*4)+5"
   ]
  },
  {
   "cell_type": "code",
   "execution_count": 6,
   "id": "21a27880-7b31-4188-bf61-38604147476e",
   "metadata": {
    "tags": []
   },
   "outputs": [
    {
     "data": {
      "text/plain": [
       "3.3333333333333335"
      ]
     },
     "execution_count": 6,
     "metadata": {},
     "output_type": "execute_result"
    }
   ],
   "source": [
    "# This will convert 200 minutes to hours by diving by 60\n",
    "200/60\n"
   ]
  },
  {
   "cell_type": "markdown",
   "id": "a0aadf71-7d91-450e-837e-9a07e31031a4",
   "metadata": {},
   "source": [
    "## Author\n",
    "Mario Ciceri"
   ]
  },
  {
   "cell_type": "code",
   "execution_count": null,
   "id": "1ef81b92-1591-4215-9920-8c87cdb21aa0",
   "metadata": {},
   "outputs": [],
   "source": []
  }
 ],
 "metadata": {
  "kernelspec": {
   "display_name": "Python",
   "language": "python",
   "name": "conda-env-python-py"
  },
  "language_info": {
   "codemirror_mode": {
    "name": "ipython",
    "version": 3
   },
   "file_extension": ".py",
   "mimetype": "text/x-python",
   "name": "python",
   "nbconvert_exporter": "python",
   "pygments_lexer": "ipython3",
   "version": "3.7.12"
  }
 },
 "nbformat": 4,
 "nbformat_minor": 5
}
